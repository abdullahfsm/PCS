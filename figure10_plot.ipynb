{
 "cells": [
  {
   "cell_type": "code",
   "execution_count": null,
   "id": "dbfb2c1c-3875-4cdd-ae3f-d90553951340",
   "metadata": {},
   "outputs": [],
   "source": [
    "import os\n",
    "import sys\n",
    "import pandas as pd\n",
    "import numpy as np\n",
    "import pickle\n",
    "import copy\n",
    "sys.path.append('plotting_utils')\n",
    "sys.path.append('simulation')\n",
    "from plotting_utils.plotting import *\n",
    "from simulation.run_multiple_sim import SimArgs"
   ]
  },
  {
   "cell_type": "code",
   "execution_count": null,
   "id": "c528a8e2-2701-4b93-937c-ee8262d5ad2f",
   "metadata": {},
   "outputs": [],
   "source": [
    "# Collection data from pkl file\n",
    "file_dir = \"new_data\"\n",
    "fname = \"size_error_expt.pkl\"\n",
    "file_path = os.path.join(file_dir, fname)\n",
    "\n",
    "with open(file_path,'rb') as fp:\n",
    "    results = pickle.load(fp)"
   ]
  },
  {
   "cell_type": "code",
   "execution_count": null,
   "id": "5735579e-d3a2-4a7f-b19e-8dd52d3cc25e",
   "metadata": {},
   "outputs": [],
   "source": [
    "raw_data = {}\n",
    "\n",
    "# create empty dictionary\n",
    "for policy in ['AFS', 'FIFO', 'MCS']:\n",
    "    raw_data[policy] = {}\n",
    "    for p_error in [0,5,10,20,30,40]:\n",
    "        raw_data[policy][p_error] = list()\n",
    "\n",
    "# fill dictionary with result key data\n",
    "for k, v in results.items():\n",
    "    file_path = os.path.join(file_dir, k.output_file)\n",
    "    raw_data[k.scheduling_policy][int(k.p_error)].append(pd.read_csv(file_path))\n",
    "\n",
    "# compute statistics\n",
    "min_avg_jct = {}\n",
    "for policy in ['AFS', 'FIFO', 'MCS']:\n",
    "    for p_error in [0,5,10,20,30,40]:\n",
    "\n",
    "        min_avg_jct.setdefault(p_error, float('inf'))\n",
    "                \n",
    "        c_df = pd.concat(raw_data[policy][p_error])\n",
    "        c_df.reset_index(drop=True, inplace=True)\n",
    "\n",
    "        jct = c_df['end_time'] - c_df['submit_time']\n",
    "        f_c_df = c_df[c_df['estimated_start_time'] != -1]\n",
    "        \n",
    "        pred_jct = f_c_df['estimated_end_time'] - f_c_df['submit_time']\n",
    "        actual_jct = f_c_df['end_time'] - f_c_df['submit_time']\n",
    "        error = 100.0 * (pred_jct - actual_jct).abs() / pred_jct\n",
    "        \n",
    "        min_avg_jct[p_error] = min(min_avg_jct[p_error], jct.mean())\n",
    "        raw_data[policy][p_error] = {\n",
    "            'avg JCT': jct.mean(),\n",
    "            'p90 JCT': jct.quantile(0.90),\n",
    "            'p95 JCT': jct.quantile(0.95),\n",
    "            'p99 JCT': jct.quantile(0.99),\n",
    "            'avg pred error': error.mean(),\n",
    "            'p90 pred error': error.quantile(0.90),\n",
    "            'p95 pred error': error.quantile(0.95),\n",
    "            'p99 pred error': error.quantile(0.99),\n",
    "        }\n",
    "\n",
    "for policy in ['AFS', 'FIFO', 'MCS']:\n",
    "    for p_error in [0,5,10,20,30,40]:\n",
    "        raw_data[policy][p_error]['avg JCT'] /= min_avg_jct[p_error]\n",
    "        # raw_data[policy][p_error]['avg JCT']\n",
    "size_error_sensitivity = {'PCS' if k == 'MCS' else k : v for k,v in raw_data.items()}"
   ]
  },
  {
   "cell_type": "code",
   "execution_count": null,
   "id": "c159f934-b851-44a8-a747-39f363308a68",
   "metadata": {},
   "outputs": [],
   "source": [
    "# figure 10a\n",
    "ax = plot_fig10a(size_error_sensitivity)\n",
    "ax.figure"
   ]
  },
  {
   "cell_type": "code",
   "execution_count": null,
   "id": "e128c388-c4b9-4187-a432-d70e794f469e",
   "metadata": {},
   "outputs": [],
   "source": [
    "# figure 10b\n",
    "ax = plot_fig10b(size_error_sensitivity)\n",
    "ax.set_ylim([0.95,1.3])\n",
    "# ax.set_ylim([75000,100000])\n",
    "ax.figure"
   ]
  }
 ],
 "metadata": {
  "kernelspec": {
   "display_name": "Python 3 (ipykernel)",
   "language": "python",
   "name": "python3"
  },
  "language_info": {
   "codemirror_mode": {
    "name": "ipython",
    "version": 3
   },
   "file_extension": ".py",
   "mimetype": "text/x-python",
   "name": "python",
   "nbconvert_exporter": "python",
   "pygments_lexer": "ipython3",
   "version": "3.11.5"
  }
 },
 "nbformat": 4,
 "nbformat_minor": 5
}
