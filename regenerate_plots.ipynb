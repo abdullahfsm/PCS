{
 "cells": [
  {
   "cell_type": "markdown",
   "id": "70ee0272-2782-4d38-a230-e7901271aef6",
   "metadata": {},
   "source": [
    "# This notebook allows the user to plot figures 4-10 from our OSDI paper"
   ]
  },
  {
   "cell_type": "code",
   "execution_count": null,
   "id": "8b9f45ef-4d27-44a8-a506-8bbe880f1e04",
   "metadata": {},
   "outputs": [],
   "source": [
    "import os\n",
    "import sys\n",
    "import matplotlib.pyplot as plt\n",
    "sys.path.append('plotting_utils')"
   ]
  },
  {
   "cell_type": "code",
   "execution_count": null,
   "id": "fe49375e-d0a1-484a-9932-8d2a2b232ee8",
   "metadata": {},
   "outputs": [],
   "source": [
    "import data_loading as dl\n",
    "import plotting as pl"
   ]
  },
  {
   "cell_type": "markdown",
   "id": "8e7634a0-e95c-4974-bdd2-483855be6ec9",
   "metadata": {},
   "source": [
    "## Figure 4 [Testbed]\n",
    "Distribution of prediction error showcasing three configurations of WFQ discovered by PCS — performance oriented, predictability oriented and balanced compared to other schemes."
   ]
  },
  {
   "cell_type": "code",
   "execution_count": null,
   "id": "872b59d6-b03e-46f8-8989-4678d49cd617",
   "metadata": {},
   "outputs": [],
   "source": [
    "#figure 4\n",
    "pl.plot_fig4().figure"
   ]
  },
  {
   "cell_type": "markdown",
   "id": "819139ef-64c3-4d33-bccb-69499393faf4",
   "metadata": {},
   "source": [
    "## Figure 5 [Testbed]\n",
    "Zooming into the trade-off between performance and predictability. PCS is within 1.1x AFS at p90 JCT, with significant improvement to predictability."
   ]
  },
  {
   "cell_type": "code",
   "execution_count": null,
   "id": "63cb8298-42c0-4abc-bbb6-4d43bd249185",
   "metadata": {},
   "outputs": [],
   "source": [
    "#figure 5a\n",
    "pl.plot_fig5a().figure"
   ]
  },
  {
   "cell_type": "code",
   "execution_count": null,
   "id": "8041bef9-7e40-4f86-9f97-983946a6d644",
   "metadata": {},
   "outputs": [],
   "source": [
    "#figure 5b\n",
    "pl.plot_fig5b().figure"
   ]
  },
  {
   "cell_type": "markdown",
   "id": "c2745259-5ee8-4088-b043-048139bf5344",
   "metadata": {},
   "source": [
    "## Figure 6 [Testbed]\n",
    " - The first plot shows the CDF of unfairness showcasing that PCS does not significantly compromise on fairness\n",
    "compared to Themis that optimizes for it.\n",
    "- The second plot highlights the Pareto-optimal configurations discovered in a simulated environment observe the same trend on the testbed evaluation"
   ]
  },
  {
   "cell_type": "code",
   "execution_count": null,
   "id": "2c4cf31e-3705-4d67-8ca7-f01bf82af9bb",
   "metadata": {},
   "outputs": [],
   "source": [
    "#figure 6a\n",
    "pl.plot_fig6a().figure"
   ]
  },
  {
   "cell_type": "code",
   "execution_count": null,
   "id": "203e5290-3602-4370-a3e1-ecbfd4180288",
   "metadata": {},
   "outputs": [],
   "source": [
    "#figure 6b\n",
    "pl.plot_fig6b().figure"
   ]
  },
  {
   "cell_type": "markdown",
   "id": "ae5f6bde-ba39-4471-acca-e8957629a025",
   "metadata": {},
   "source": [
    "## Figure 7 [SIM]\n",
    "PCS for workload-2:\n",
    "- The first figure shows that most PCS configurations are within 1.5-4× of the performance optimal policies\n",
    "- The second figure shows that they drastically reduce the average and tail Prediction error. The lines on the bars represent p99 Prediction error."
   ]
  },
  {
   "cell_type": "code",
   "execution_count": null,
   "id": "73c46d5e-fd21-4fea-8987-c19b8d368f12",
   "metadata": {},
   "outputs": [],
   "source": [
    "#figure 7a\n",
    "pl.plot_fig7a().figure"
   ]
  },
  {
   "cell_type": "code",
   "execution_count": null,
   "id": "7a23107d-185d-42d8-b521-6ae4094113e6",
   "metadata": {},
   "outputs": [],
   "source": [
    "#figure 7b\n",
    "pl.plot_fig7b().figure"
   ]
  },
  {
   "cell_type": "markdown",
   "id": "6b5055bd-b500-4b0c-bc5e-61c3069ef54d",
   "metadata": {},
   "source": [
    "## Figure 8 [SIM]\n",
    "- The first figure shows that schemes that optimize for average JCTs for workload-3 also have a small average prediction error.\n",
    "- The second figure shows that for such workloads the tail prediction error becomes an important metric and by optimizing for it, PCS can find configurations that can tightly bound the tail prediction error."
   ]
  },
  {
   "cell_type": "code",
   "execution_count": null,
   "id": "1a7d112a-6725-4b08-b2c9-0f8a61546446",
   "metadata": {},
   "outputs": [],
   "source": [
    "#figure 8a\n",
    "pl.plot_fig8a().figure"
   ]
  },
  {
   "cell_type": "code",
   "execution_count": null,
   "id": "e8444ab9-8862-4068-ab41-c5712a025a9c",
   "metadata": {},
   "outputs": [],
   "source": [
    "#figure 8b\n",
    "pl.plot_fig8b().figure"
   ]
  },
  {
   "cell_type": "markdown",
   "id": "f1213011-5dd3-4a23-b469-a87080c5fe25",
   "metadata": {},
   "source": [
    "## Figure 9 [Microbenchmark]\n",
    "Feasibility of the simulation-based search strategy:\n",
    "- The first figure captures the time to run a single simulation\n",
    "- The second figure shows the time it takes to discover the entire Pareto-front\n",
    "- The third figure highlights that intelligent parameterization helps in discovering more Pareto optimal points for a given evaluation budget\n"
   ]
  },
  {
   "cell_type": "code",
   "execution_count": null,
   "id": "1fa0f109-e0a8-4e20-8cbf-ab6e9736a06f",
   "metadata": {},
   "outputs": [],
   "source": [
    "# Figure 9a\n",
    "pl.plot_fig9a().figure"
   ]
  },
  {
   "cell_type": "code",
   "execution_count": null,
   "id": "f617fa2b-c437-48eb-8795-5c05158e2cf6",
   "metadata": {},
   "outputs": [],
   "source": [
    "# Figure 9b\n",
    "pl.plot_fig9b().figure"
   ]
  },
  {
   "cell_type": "code",
   "execution_count": null,
   "id": "b7ce9df7-f58e-4656-9f13-af76237e762a",
   "metadata": {},
   "outputs": [],
   "source": [
    "# Figure 9c\n",
    "pl.plot_fig9c().figure"
   ]
  },
  {
   "cell_type": "markdown",
   "id": "0fb34d01-19de-49f5-bfeb-8a2458d4b9b3",
   "metadata": {},
   "source": [
    "## Figure 10\n",
    "Understanding the effects of error in job size estimation:\n",
    "- The first figure compares the average prediction error with PCS against\n",
    "FIFO with varying job size estimation error\n",
    "- The second figure compares the avg JCT of PCS and AFS under the same error"
   ]
  },
  {
   "cell_type": "code",
   "execution_count": null,
   "id": "68e4b84f-ac57-4cb2-b169-b5e418bcfcb5",
   "metadata": {},
   "outputs": [],
   "source": [
    "# Figure 10a\n",
    "pl.plot_fig10a().figure"
   ]
  },
  {
   "cell_type": "code",
   "execution_count": null,
   "id": "e36700c1-42ef-4188-9d55-2418c616774a",
   "metadata": {},
   "outputs": [],
   "source": [
    "# Figure 10b\n",
    "pl.plot_fig10b().figure"
   ]
  }
 ],
 "metadata": {
  "kernelspec": {
   "display_name": "Python 3 (ipykernel)",
   "language": "python",
   "name": "python3"
  },
  "language_info": {
   "codemirror_mode": {
    "name": "ipython",
    "version": 3
   },
   "file_extension": ".py",
   "mimetype": "text/x-python",
   "name": "python",
   "nbconvert_exporter": "python",
   "pygments_lexer": "ipython3",
   "version": "3.11.5"
  }
 },
 "nbformat": 4,
 "nbformat_minor": 5
}
