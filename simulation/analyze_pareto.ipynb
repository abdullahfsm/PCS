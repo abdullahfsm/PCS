{
 "cells": [
  {
   "cell_type": "code",
   "execution_count": 1,
   "id": "d7d9fcb8-c49a-464a-a422-c9357122602e",
   "metadata": {},
   "outputs": [],
   "source": [
    "import pickle\n",
    "from boost_tuner import *\n",
    "from wfq_tuner import *\n",
    "import matplotlib.pyplot as plt\n",
    "\n",
    "from MCSScheduler import AppMCScheduler\n",
    "\n",
    "import numpy as np\n",
    "\n",
    "import tqdm"
   ]
  },
  {
   "cell_type": "code",
   "execution_count": 2,
   "id": "7a5a2e40-58c3-4d65-9b64-e094361bcdcf",
   "metadata": {},
   "outputs": [],
   "source": [
    "def load_pickle(fname):\n",
    "    obj = []\n",
    "    with open(fname, 'rb') as fp:\n",
    "        while True:\n",
    "            try:\n",
    "                obj.append(pickle.load(fp))\n",
    "            except Exception as e:\n",
    "                return obj\n",
    "            \n",
    "\n",
    "\n",
    "def get_scheduler_stats(scheduler, estimate=True):\n",
    "    jct = list()\n",
    "    pred_error = list()\n",
    "    unfairness = list()\n",
    "\n",
    "    app_list = scheduler._app_list\n",
    "\n",
    "    for app_id in app_list:\n",
    "        app = app_list[app_id]\n",
    "\n",
    "        actual_jct = (app.end_time - app.submit_time).total_seconds()\n",
    "        jct.append(actual_jct)\n",
    "\n",
    "        if estimate and len(app.estimated_end_time) > 0:\n",
    "            estimated_jct = (\n",
    "                app.estimated_end_time[0] - app.submit_time\n",
    "            ).total_seconds()\n",
    "            pred_error.append(\n",
    "                100.0 * abs(estimated_jct - actual_jct) / estimated_jct\n",
    "            )\n",
    "\n",
    "        num_apps_seen_diff = app.num_apps_seen[0] / app.num_apps_seen[1]\n",
    "        divided_cluster_size = scheduler._max_capacity / num_apps_seen_diff\n",
    "        fair_jct = app.service / min(divided_cluster_size, app.initial_demand)\n",
    "        unfairness.append(max(0, ((actual_jct / fair_jct) - 1.0)))\n",
    "\n",
    "    # 0, 1, 2\n",
    "    jct.sort()\n",
    "    pred_error.sort()\n",
    "    unfairness.sort()\n",
    "\n",
    "    return jct, pred_error, unfairness\n",
    "\n",
    "\n",
    "\n",
    "\n",
    "\n",
    "\n",
    "def evaluate_wfq(problem, solution):\n",
    "    class_detail = problem.solution_transformer(solution)   \n",
    "\n",
    "    scheduler = AppMCScheduler(\n",
    "        total_gpus=problem._total_gpus,\n",
    "        event_queue=copy.deepcopy(problem._event_queue),\n",
    "        app_list=copy.deepcopy(problem._app_list),\n",
    "        class_detail=class_detail,\n",
    "        app_info_fn=None,\n",
    "        verbosity=0,\n",
    "    )\n",
    "    scheduler.set_estimator()\n",
    "\n",
    "    tick = datetime.now()\n",
    "    scheduler.run()\n",
    "    tock = datetime.now()\n",
    "\n",
    "    jct, pred_error, unfairness = get_scheduler_stats(scheduler)\n",
    "    return jct, pred_error, unfairness\n",
    "\n",
    "def evalute_wfq_frontier(problem, solutions):\n",
    "    results = []\n",
    "\n",
    "    for solution in tqdm.tqdm(solutions):\n",
    "        results.append(evaluate_wfq(problem, solution))\n",
    "\n",
    "\n",
    "    avg_jcts = [np.mean(r[0]) for r in results]\n",
    "    avg_pred_error = [np.mean(r[1]) for r in results]\n",
    "\n",
    "    return avg_jcts, avg_pred_error"
   ]
  },
  {
   "cell_type": "markdown",
   "id": "26c52cea-8db8-4963-bc05-74959eb1801c",
   "metadata": {},
   "source": [
    "# RUN evaluation"
   ]
  },
  {
   "cell_type": "code",
   "execution_count": 3,
   "id": "2103e8e7-fad7-49ba-b93c-9daed083aba7",
   "metadata": {},
   "outputs": [
    {
     "name": "stderr",
     "output_type": "stream",
     "text": [
      "  0%|                                                    | 0/70 [00:00<?, ?it/s]"
     ]
    },
    {
     "name": "stdout",
     "output_type": "stream",
     "text": [
      "Warning: Untested Ray version --- may result in erroneous behaviour\n"
     ]
    },
    {
     "name": "stderr",
     "output_type": "stream",
     "text": [
      "2024-11-07 13:47:28,784\tINFO worker.py:1749 -- Started a local Ray instance.\n",
      "100%|███████████████████████████████████████████| 70/70 [03:00<00:00,  2.58s/it]\n",
      "\u001b[33m(raylet)\u001b[0m [2024-11-07 13:50:28,720 E 70599 70599] (raylet) node_manager.cc:2963: 1 Workers (tasks / actors) killed due to memory pressure (OOM), 0 Workers crashed due to other reasons at node (ID: 0c8505c4e26afc6155c1d83b1d373bc2997275deecf2443ea8807083, IP: 10.3.14.246) over the last time period. To see more information about the Workers killed on this node, use `ray logs raylet.out -ip 10.3.14.246`\n",
      "\u001b[33m(raylet)\u001b[0m \n",
      "\u001b[33m(raylet)\u001b[0m Refer to the documentation on how to address the out of memory issue: https://docs.ray.io/en/latest/ray-core/scheduling/ray-oom-prevention.html. Consider provisioning more memory on this node or reducing task parallelism by requesting more CPUs per task. To adjust the kill threshold, set the environment variable `RAY_memory_usage_threshold` when starting Ray. To disable worker killing, set the environment variable `RAY_memory_monitor_refresh_ms` to zero.\n"
     ]
    }
   ],
   "source": [
    "wfq = 'learnt_configs_FlexTuneWHeuristics.pkl'\n",
    "boost = 'learnt_configs_Boost.pkl'\n",
    "\n",
    "\n",
    "obj = load_pickle(wfq)\n",
    "    \n",
    "labels = [o.get_name() for o in obj[0].get('objectives')]\n",
    "\n",
    "\n",
    "problem = obj[1].get('PROBLEM')\n",
    "solutions = obj[1].get('SOLUTIONS')\n",
    "\n",
    "X, Y = evalute_wfq_frontier(problem, solutions)"
   ]
  },
  {
   "cell_type": "markdown",
   "id": "bf9524aa-ceb5-4722-94ff-9ae44495ba9b",
   "metadata": {},
   "source": [
    "# PLOT"
   ]
  },
  {
   "cell_type": "code",
   "execution_count": null,
   "id": "8a5931ff-5b3d-41bb-8f36-a63d77b1aa7a",
   "metadata": {},
   "outputs": [],
   "source": [
    "with open(wfq,\"ab\") as fp:\n",
    "    pickle.dump(,fp)"
   ]
  },
  {
   "cell_type": "code",
   "execution_count": 8,
   "id": "6acf1919-b1c5-4a2a-bfd3-fa4e3ddc3a5a",
   "metadata": {},
   "outputs": [
    {
     "data": {
      "image/png": "[encoded data removed]",
      "text/plain": [
       "<Figure size 640x480 with 1 Axes>"
      ]
     },
     "metadata": {},
     "output_type": "display_data"
    }
   ],
   "source": [
    "def normalize(L):\n",
    "    return [l/min(L) for l in L]\n",
    "\n",
    "# X = [s.objectives[0] for s in obj[1].get('SOLUTIONS')]\n",
    "tail_jcts = [s.objectives[1] for s in obj[1].get('SOLUTIONS')]\n",
    "\n",
    "# X_norm = [x/min(X) for x in X]\n",
    "# Y_norm = [y/min(Y) for y in Y]\n",
    "# Y_norm = Y\n",
    "\n",
    "pred_error = Y\n",
    "\n",
    "tail_jcts = normalize(tail_jcts)\n",
    "\n",
    "plt.scatter(tail_jcts, pred_error, label=\"All Points\")\n",
    "\n",
    "# plt.xlabel(labels[0])\n",
    "# plt.ylabel(labels[1])\n",
    "\n",
    "plt.show()"
   ]
  },
  {
   "cell_type": "code",
   "execution_count": null,
   "id": "57c910bc-73aa-4122-b8a3-a5d305b754f9",
   "metadata": {},
   "outputs": [],
   "source": []
  }
 ],
 "metadata": {
  "kernelspec": {
   "display_name": "Python 3 (ipykernel)",
   "language": "python",
   "name": "python3"
  },
  "language_info": {
   "codemirror_mode": {
    "name": "ipython",
    "version": 3
   },
   "file_extension": ".py",
   "mimetype": "text/x-python",
   "name": "python",
   "nbconvert_exporter": "python",
   "pygments_lexer": "ipython3",
   "version": "3.11.5"
  }
 },
 "nbformat": 4,
 "nbformat_minor": 5
}
